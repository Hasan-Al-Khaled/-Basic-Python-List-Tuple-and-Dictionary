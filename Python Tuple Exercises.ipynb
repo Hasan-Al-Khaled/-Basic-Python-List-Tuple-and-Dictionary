{
 "cells": [
  {
   "cell_type": "markdown",
   "id": "ad274d8a",
   "metadata": {},
   "source": [
    "# Python Tuple Exercises"
   ]
  },
  {
   "cell_type": "markdown",
   "id": "158e2a60",
   "metadata": {},
   "source": [
    "# One item tuple, remember the comma:"
   ]
  },
  {
   "cell_type": "code",
   "execution_count": 1,
   "id": "edf5de17",
   "metadata": {},
   "outputs": [
    {
     "name": "stdout",
     "output_type": "stream",
     "text": [
      "<class 'tuple'>\n",
      "<class 'str'>\n"
     ]
    }
   ],
   "source": [
    "thistuple = (\"apple\",)\n",
    "print(type(thistuple))\n",
    "\n",
    "#NOT a tuple\n",
    "thistuple = (\"apple\")\n",
    "print(type(thistuple))"
   ]
  },
  {
   "cell_type": "markdown",
   "id": "4a2f7e6a",
   "metadata": {},
   "source": [
    "# Tuple items can be of any data type:"
   ]
  },
  {
   "cell_type": "code",
   "execution_count": 19,
   "id": "2017eb3c",
   "metadata": {},
   "outputs": [],
   "source": [
    "tuple1 = (\"apple\", \"banana\", \"cherry\")\n",
    "tuple2 = (1, 5, 7, 9, 3)\n",
    "tuple3 = (True, False, False)"
   ]
  },
  {
   "cell_type": "markdown",
   "id": "61295a24",
   "metadata": {},
   "source": [
    "# This example returns the items from \"cherry\" and to the end:"
   ]
  },
  {
   "cell_type": "code",
   "execution_count": 18,
   "id": "025211e5",
   "metadata": {},
   "outputs": [
    {
     "name": "stdout",
     "output_type": "stream",
     "text": [
      "('cherry', 'orange', 'kiwi', 'melon', 'mango')\n"
     ]
    }
   ],
   "source": [
    "thistuple = (\"apple\", \"banana\", \"cherry\", \"orange\", \"kiwi\", \"melon\", \"mango\")\n",
    "print(thistuple[2:])"
   ]
  },
  {
   "cell_type": "markdown",
   "id": "9abedc7e",
   "metadata": {},
   "source": [
    "# In the above methods, we use the positive index to access the value in Python, and here we will use -ve index within []."
   ]
  },
  {
   "cell_type": "code",
   "execution_count": 17,
   "id": "ce4fe6aa",
   "metadata": {},
   "outputs": [
    {
     "name": "stdout",
     "output_type": "stream",
     "text": [
      "Value in Var[0] =  Learn\n",
      "Value in Var[1] =  for\n",
      "Value in Var[2] =  Carrier\n"
     ]
    }
   ],
   "source": [
    "var = (\"Learn\", \"for\", \"Carrier\")\n",
    "\n",
    "print(\"Value in Var[0] = \", var[0])\n",
    "print(\"Value in Var[1] = \", var[1])\n",
    "print(\"Value in Var[2] = \", var[2])\n",
    "\n"
   ]
  },
  {
   "cell_type": "markdown",
   "id": "1d8d9e9d",
   "metadata": {},
   "source": [
    "# Using square brackets we can get the values from tuples in Python"
   ]
  },
  {
   "cell_type": "code",
   "execution_count": 16,
   "id": "348d912d",
   "metadata": {},
   "outputs": [
    {
     "name": "stdout",
     "output_type": "stream",
     "text": [
      "Value in Var[0] =  Learn\n",
      "Value in Var[1] =  for\n",
      "Value in Var[2] =  Carrier\n"
     ]
    }
   ],
   "source": [
    "var = (\"Learn\", \"for\", \"Carrier\")\n",
    "\n",
    "print(\"Value in Var[0] = \", var[0])\n",
    "print(\"Value in Var[1] = \", var[1])\n",
    "print(\"Value in Var[2] = \", var[2])\n"
   ]
  },
  {
   "cell_type": "markdown",
   "id": "21a33511",
   "metadata": {},
   "source": [
    "# Slicing Tuples in Python"
   ]
  },
  {
   "cell_type": "code",
   "execution_count": 9,
   "id": "c3e7ae07",
   "metadata": {},
   "outputs": [
    {
     "name": "stdout",
     "output_type": "stream",
     "text": [
      "(1, 2, 3)\n",
      "(3, 2, 1, 0)\n",
      "(2, 3)\n"
     ]
    }
   ],
   "source": [
    "# code to test slicing\n",
    "\n",
    "tuple1 = (0 ,1, 2, 3)\n",
    "print(tuple1[1:])\n",
    "print(tuple1[::-1])\n",
    "print(tuple1[2:4])\n"
   ]
  },
  {
   "cell_type": "markdown",
   "id": "bc6065bd",
   "metadata": {},
   "source": [
    "# python code for creating tuples in a loop"
   ]
  },
  {
   "cell_type": "code",
   "execution_count": 14,
   "id": "ac17f4cc",
   "metadata": {},
   "outputs": [
    {
     "name": "stdout",
     "output_type": "stream",
     "text": [
      "(('Hasan AL khaled',),)\n",
      "((('Hasan AL khaled',),),)\n",
      "(((('Hasan AL khaled',),),),)\n",
      "((((('Hasan AL khaled',),),),),)\n",
      "(((((('Hasan AL khaled',),),),),),)\n"
     ]
    }
   ],
   "source": [
    "tup = ('Hasan AL khaled',)\n",
    "n = 5 # Number of time loop runs\n",
    "for i in range(int(n)):\n",
    " tup = (tup,)\n",
    " print(tup)\n"
   ]
  },
  {
   "cell_type": "code",
   "execution_count": null,
   "id": "d334c698",
   "metadata": {},
   "outputs": [],
   "source": []
  },
  {
   "cell_type": "code",
   "execution_count": null,
   "id": "1a29bb92",
   "metadata": {},
   "outputs": [],
   "source": []
  },
  {
   "cell_type": "code",
   "execution_count": null,
   "id": "dbcbf0b0",
   "metadata": {},
   "outputs": [],
   "source": []
  }
 ],
 "metadata": {
  "kernelspec": {
   "display_name": "Python 3 (ipykernel)",
   "language": "python",
   "name": "python3"
  },
  "language_info": {
   "codemirror_mode": {
    "name": "ipython",
    "version": 3
   },
   "file_extension": ".py",
   "mimetype": "text/x-python",
   "name": "python",
   "nbconvert_exporter": "python",
   "pygments_lexer": "ipython3",
   "version": "3.9.12"
  }
 },
 "nbformat": 4,
 "nbformat_minor": 5
}
